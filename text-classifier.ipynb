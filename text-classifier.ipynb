{
 "metadata": {
  "language_info": {
   "codemirror_mode": {
    "name": "ipython",
    "version": 3
   },
   "file_extension": ".py",
   "mimetype": "text/x-python",
   "name": "python",
   "nbconvert_exporter": "python",
   "pygments_lexer": "ipython3",
   "version": "3.8.5"
  },
  "orig_nbformat": 2,
  "kernelspec": {
   "name": "python385jvsc74a57bd0d4b4accb35c21fef34ab4615b1f9f2d77b9cf51feeb2cf4fc080613d121ed7e6",
   "display_name": "Python 3.8.5  ('.venv': venv)"
  }
 },
 "nbformat": 4,
 "nbformat_minor": 2,
 "cells": [
  {
   "cell_type": "code",
   "execution_count": 26,
   "metadata": {},
   "outputs": [],
   "source": [
    "import pandas as pd"
   ]
  },
  {
   "cell_type": "code",
   "execution_count": 13,
   "metadata": {},
   "outputs": [
    {
     "output_type": "execute_result",
     "data": {
      "text/plain": [
       "                                              sentence  label\n",
       "0    A very, very, very slow-moving, aimless movie ...      0\n",
       "1    Not sure who was more lost - the flat characte...      0\n",
       "2    Attempting artiness with black & white and cle...      0\n",
       "3         Very little music or anything to speak of.        0\n",
       "4    The best scene in the movie was when Gerardo i...      1\n",
       "..                                                 ...    ...\n",
       "743  I just got bored watching Jessice Lange take h...      0\n",
       "744  Unfortunately, any virtue in this film's produ...      0\n",
       "745                   In a word, it is embarrassing.        0\n",
       "746                               Exceptionally bad!        0\n",
       "747  All in all its an insult to one's intelligence...      0\n",
       "\n",
       "[748 rows x 2 columns]"
      ],
      "text/html": "<div>\n<style scoped>\n    .dataframe tbody tr th:only-of-type {\n        vertical-align: middle;\n    }\n\n    .dataframe tbody tr th {\n        vertical-align: top;\n    }\n\n    .dataframe thead th {\n        text-align: right;\n    }\n</style>\n<table border=\"1\" class=\"dataframe\">\n  <thead>\n    <tr style=\"text-align: right;\">\n      <th></th>\n      <th>sentence</th>\n      <th>label</th>\n    </tr>\n  </thead>\n  <tbody>\n    <tr>\n      <th>0</th>\n      <td>A very, very, very slow-moving, aimless movie ...</td>\n      <td>0</td>\n    </tr>\n    <tr>\n      <th>1</th>\n      <td>Not sure who was more lost - the flat characte...</td>\n      <td>0</td>\n    </tr>\n    <tr>\n      <th>2</th>\n      <td>Attempting artiness with black &amp; white and cle...</td>\n      <td>0</td>\n    </tr>\n    <tr>\n      <th>3</th>\n      <td>Very little music or anything to speak of.</td>\n      <td>0</td>\n    </tr>\n    <tr>\n      <th>4</th>\n      <td>The best scene in the movie was when Gerardo i...</td>\n      <td>1</td>\n    </tr>\n    <tr>\n      <th>...</th>\n      <td>...</td>\n      <td>...</td>\n    </tr>\n    <tr>\n      <th>743</th>\n      <td>I just got bored watching Jessice Lange take h...</td>\n      <td>0</td>\n    </tr>\n    <tr>\n      <th>744</th>\n      <td>Unfortunately, any virtue in this film's produ...</td>\n      <td>0</td>\n    </tr>\n    <tr>\n      <th>745</th>\n      <td>In a word, it is embarrassing.</td>\n      <td>0</td>\n    </tr>\n    <tr>\n      <th>746</th>\n      <td>Exceptionally bad!</td>\n      <td>0</td>\n    </tr>\n    <tr>\n      <th>747</th>\n      <td>All in all its an insult to one's intelligence...</td>\n      <td>0</td>\n    </tr>\n  </tbody>\n</table>\n<p>748 rows × 2 columns</p>\n</div>"
     },
     "metadata": {},
     "execution_count": 13
    }
   ],
   "source": [
    "amazon_df = pd.read_csv('./amazon_cells_labelled.txt',names=['sentence', 'label'], delimiter = \"\\t\")\n",
    "imdb_df = pd.read_csv('./imdb_labelled.txt',names=['sentence', 'label'], delimiter = \"\\t\")\n",
    "amazon_df\n",
    "imdb_df\n"
   ]
  },
  {
   "cell_type": "code",
   "execution_count": 27,
   "metadata": {},
   "outputs": [
    {
     "output_type": "stream",
     "name": "stdout",
     "text": [
      "sentence    So there is no way for me to plug it in here i...\nlabel                                                       0\nsource                                                 amazon\nName: 0, dtype: object\n"
     ]
    },
    {
     "output_type": "execute_result",
     "data": {
      "text/plain": [
       "                                              sentence  label  source\n",
       "0    So there is no way for me to plug it in here i...      0  amazon\n",
       "1                          Good case, Excellent value.      1  amazon\n",
       "2                               Great for the jawbone.      1  amazon\n",
       "3    Tied to charger for conversations lasting more...      0  amazon\n",
       "4                                    The mic is great.      1  amazon\n",
       "..                                                 ...    ...     ...\n",
       "743  I just got bored watching Jessice Lange take h...      0    imdb\n",
       "744  Unfortunately, any virtue in this film's produ...      0    imdb\n",
       "745                   In a word, it is embarrassing.        0    imdb\n",
       "746                               Exceptionally bad!        0    imdb\n",
       "747  All in all its an insult to one's intelligence...      0    imdb\n",
       "\n",
       "[1748 rows x 3 columns]"
      ],
      "text/html": "<div>\n<style scoped>\n    .dataframe tbody tr th:only-of-type {\n        vertical-align: middle;\n    }\n\n    .dataframe tbody tr th {\n        vertical-align: top;\n    }\n\n    .dataframe thead th {\n        text-align: right;\n    }\n</style>\n<table border=\"1\" class=\"dataframe\">\n  <thead>\n    <tr style=\"text-align: right;\">\n      <th></th>\n      <th>sentence</th>\n      <th>label</th>\n      <th>source</th>\n    </tr>\n  </thead>\n  <tbody>\n    <tr>\n      <th>0</th>\n      <td>So there is no way for me to plug it in here i...</td>\n      <td>0</td>\n      <td>amazon</td>\n    </tr>\n    <tr>\n      <th>1</th>\n      <td>Good case, Excellent value.</td>\n      <td>1</td>\n      <td>amazon</td>\n    </tr>\n    <tr>\n      <th>2</th>\n      <td>Great for the jawbone.</td>\n      <td>1</td>\n      <td>amazon</td>\n    </tr>\n    <tr>\n      <th>3</th>\n      <td>Tied to charger for conversations lasting more...</td>\n      <td>0</td>\n      <td>amazon</td>\n    </tr>\n    <tr>\n      <th>4</th>\n      <td>The mic is great.</td>\n      <td>1</td>\n      <td>amazon</td>\n    </tr>\n    <tr>\n      <th>...</th>\n      <td>...</td>\n      <td>...</td>\n      <td>...</td>\n    </tr>\n    <tr>\n      <th>743</th>\n      <td>I just got bored watching Jessice Lange take h...</td>\n      <td>0</td>\n      <td>imdb</td>\n    </tr>\n    <tr>\n      <th>744</th>\n      <td>Unfortunately, any virtue in this film's produ...</td>\n      <td>0</td>\n      <td>imdb</td>\n    </tr>\n    <tr>\n      <th>745</th>\n      <td>In a word, it is embarrassing.</td>\n      <td>0</td>\n      <td>imdb</td>\n    </tr>\n    <tr>\n      <th>746</th>\n      <td>Exceptionally bad!</td>\n      <td>0</td>\n      <td>imdb</td>\n    </tr>\n    <tr>\n      <th>747</th>\n      <td>All in all its an insult to one's intelligence...</td>\n      <td>0</td>\n      <td>imdb</td>\n    </tr>\n  </tbody>\n</table>\n<p>1748 rows × 3 columns</p>\n</div>"
     },
     "metadata": {},
     "execution_count": 27
    }
   ],
   "source": [
    "import pandas as pd\n",
    "\n",
    "filepath_dict = {'amazon': './amazon_cells_labelled.txt',\n",
    "                 'imdb':   './imdb_labelled.txt'}\n",
    "\n",
    "df_list = []\n",
    "for source, filepath in filepath_dict.items():\n",
    "    df = pd.read_csv(filepath, names=['sentence', 'label'], sep='\\t')\n",
    "    df['source'] = source  \n",
    "    df_list.append(df)\n",
    "\n",
    "df = pd.concat(df_list)\n",
    "print(df.iloc[0])\n",
    "df"
   ]
  },
  {
   "source": [
    "Amazon Baseline Classification Model"
   ],
   "cell_type": "markdown",
   "metadata": {}
  },
  {
   "cell_type": "code",
   "execution_count": 35,
   "metadata": {},
   "outputs": [
    {
     "output_type": "stream",
     "name": "stdout",
     "text": [
      "Accuracy for Amazon data:0.8\n"
     ]
    }
   ],
   "source": [
    "import sklearn\n",
    "from sklearn.model_selection import train_test_split\n",
    "from sklearn.linear_model import LogisticRegression\n",
    "from sklearn.feature_extraction.text import CountVectorizer\n",
    "amazon_df = df[df['source'] == 'amazon']\n",
    "sentences = amazon_df['sentence'].values\n",
    "y = amazon_df['label'].values\n",
    "sentences_train, sentences_test, y_train, y_test = train_test_split(sentences, y, test_size=0.20, random_state=1000)\n",
    "\n",
    "vectorizer = CountVectorizer()\n",
    "vectorizer.fit(sentences_train)\n",
    "\n",
    "X_train = vectorizer.transform(sentences_train)\n",
    "X_test  = vectorizer.transform(sentences_test)\n",
    "classification_model = LogisticRegression()\n",
    "classification_model.fit(X_train, y_train)\n",
    "score = classification_model.score(X_test, y_test)\n",
    "print(f'Accuracy for Amazon data classification model:{score}')"
   ]
  },
  {
   "source": [
    "IMBD Baseline Classification Model"
   ],
   "cell_type": "markdown",
   "metadata": {}
  },
  {
   "cell_type": "code",
   "execution_count": 36,
   "metadata": {},
   "outputs": [
    {
     "output_type": "stream",
     "name": "stdout",
     "text": [
      "Accuracy for IMBD data:0.7866666666666666\n"
     ]
    }
   ],
   "source": [
    "imdb_df = df[df['source'] == 'imdb']\n",
    "sentences = imdb_df['sentence'].values\n",
    "y = imdb_df['label'].values\n",
    "sentences_train, sentences_test, y_train, y_test = train_test_split(sentences, y, test_size=0.20, random_state=1000)\n",
    "\n",
    "vectorizer = CountVectorizer()\n",
    "vectorizer.fit(sentences_train)\n",
    "\n",
    "X_train = vectorizer.transform(sentences_train)\n",
    "X_test  = vectorizer.transform(sentences_test)\n",
    "classification_model = LogisticRegression()\n",
    "classification_model.fit(X_train, y_train)\n",
    "score = classification_model.score(X_test, y_test)\n",
    "print(f'Accuracy for IMBD data classification model:{score}')\n"
   ]
  }
 ]
}